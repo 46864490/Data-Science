{
 "cells": [
  {
   "cell_type": "code",
   "execution_count": 2,
   "id": "ba21b446",
   "metadata": {},
   "outputs": [],
   "source": [
    "#Importing necessary libabrires\n",
    "import pandas as pd\n",
    "import numpy as np\n",
    "from sklearn.model_selection import train_test_split\n",
    "from sklearn import linear_model\n",
    "from sklearn.metrics import r2_score\n",
    "\n",
    "import seaborn as sns\n",
    "import matplotlib.pylab as plt\n",
    "%matplotlib inline\n",
    "\n",
    "# supress some warnings that mess up my slides\n",
    "import warnings; warnings.simplefilter('ignore')"
   ]
  },
  {
   "cell_type": "code",
   "execution_count": 3,
   "id": "f87b2a56",
   "metadata": {},
   "outputs": [
    {
     "name": "stdout",
     "output_type": "stream",
     "text": [
      "<class 'pandas.core.frame.DataFrame'>\n",
      "RangeIndex: 2899 entries, 0 to 2898\n",
      "Data columns (total 8 columns):\n",
      " #   Column       Non-Null Count  Dtype \n",
      "---  ------       --------------  ----- \n",
      " 0   userId       2899 non-null   int64 \n",
      " 1   timestamp    2899 non-null   int64 \n",
      " 2   review       2899 non-null   object\n",
      " 3   item         2899 non-null   object\n",
      " 4   rating       2899 non-null   int64 \n",
      " 5   helpfulness  2899 non-null   int64 \n",
      " 6   gender       2899 non-null   object\n",
      " 7   category     2899 non-null   object\n",
      "dtypes: int64(4), object(4)\n",
      "memory usage: 181.3+ KB\n"
     ]
    },
    {
     "data": {
      "text/html": [
       "<div>\n",
       "<style scoped>\n",
       "    .dataframe tbody tr th:only-of-type {\n",
       "        vertical-align: middle;\n",
       "    }\n",
       "\n",
       "    .dataframe tbody tr th {\n",
       "        vertical-align: top;\n",
       "    }\n",
       "\n",
       "    .dataframe thead th {\n",
       "        text-align: right;\n",
       "    }\n",
       "</style>\n",
       "<table border=\"1\" class=\"dataframe\">\n",
       "  <thead>\n",
       "    <tr style=\"text-align: right;\">\n",
       "      <th></th>\n",
       "      <th>userId</th>\n",
       "      <th>timestamp</th>\n",
       "      <th>review</th>\n",
       "      <th>item</th>\n",
       "      <th>rating</th>\n",
       "      <th>helpfulness</th>\n",
       "      <th>gender</th>\n",
       "      <th>category</th>\n",
       "    </tr>\n",
       "  </thead>\n",
       "  <tbody>\n",
       "    <tr>\n",
       "      <th>0</th>\n",
       "      <td>4259</td>\n",
       "      <td>11900</td>\n",
       "      <td>Finally, Something for (Relatively) Nothing</td>\n",
       "      <td>MyPoints.com</td>\n",
       "      <td>4</td>\n",
       "      <td>4</td>\n",
       "      <td>F</td>\n",
       "      <td>Online Stores &amp; Services</td>\n",
       "    </tr>\n",
       "    <tr>\n",
       "      <th>1</th>\n",
       "      <td>4259</td>\n",
       "      <td>12000</td>\n",
       "      <td>Shocking!</td>\n",
       "      <td>Sixth Sense</td>\n",
       "      <td>5</td>\n",
       "      <td>4</td>\n",
       "      <td>F</td>\n",
       "      <td>Movies</td>\n",
       "    </tr>\n",
       "    <tr>\n",
       "      <th>2</th>\n",
       "      <td>4259</td>\n",
       "      <td>12000</td>\n",
       "      <td>Simply Shaggadelic!</td>\n",
       "      <td>Austin Powers: The Spy Who Shagged Me</td>\n",
       "      <td>5</td>\n",
       "      <td>4</td>\n",
       "      <td>F</td>\n",
       "      <td>Movies</td>\n",
       "    </tr>\n",
       "    <tr>\n",
       "      <th>3</th>\n",
       "      <td>4259</td>\n",
       "      <td>12000</td>\n",
       "      <td>Better Than The First!</td>\n",
       "      <td>Toy Story 2</td>\n",
       "      <td>5</td>\n",
       "      <td>3</td>\n",
       "      <td>F</td>\n",
       "      <td>Movies</td>\n",
       "    </tr>\n",
       "    <tr>\n",
       "      <th>4</th>\n",
       "      <td>4259</td>\n",
       "      <td>12000</td>\n",
       "      <td>Blair Witch made me appreciate this</td>\n",
       "      <td>Star Wars Episode I: The Phantom Menace</td>\n",
       "      <td>2</td>\n",
       "      <td>4</td>\n",
       "      <td>F</td>\n",
       "      <td>Movies</td>\n",
       "    </tr>\n",
       "  </tbody>\n",
       "</table>\n",
       "</div>"
      ],
      "text/plain": [
       "   userId  timestamp                                       review  \\\n",
       "0    4259      11900  Finally, Something for (Relatively) Nothing   \n",
       "1    4259      12000                                    Shocking!   \n",
       "2    4259      12000                          Simply Shaggadelic!   \n",
       "3    4259      12000                       Better Than The First!   \n",
       "4    4259      12000          Blair Witch made me appreciate this   \n",
       "\n",
       "                                      item  rating  helpfulness gender  \\\n",
       "0                             MyPoints.com       4            4      F   \n",
       "1                              Sixth Sense       5            4      F   \n",
       "2    Austin Powers: The Spy Who Shagged Me       5            4      F   \n",
       "3                              Toy Story 2       5            3      F   \n",
       "4  Star Wars Episode I: The Phantom Menace       2            4      F   \n",
       "\n",
       "                   category  \n",
       "0  Online Stores & Services  \n",
       "1                    Movies  \n",
       "2                    Movies  \n",
       "3                    Movies  \n",
       "4                    Movies  "
      ]
     },
     "execution_count": 3,
     "metadata": {},
     "output_type": "execute_result"
    }
   ],
   "source": [
    "#Openeing the reqired file\n",
    "df = pd.read_csv(\"Epinions_cleaned_data_portfolio_2.csv\")\n",
    "df.info()\n",
    "df.head() "
   ]
  },
  {
   "cell_type": "code",
   "execution_count": 4,
   "id": "135af68e",
   "metadata": {},
   "outputs": [
    {
     "data": {
      "text/html": [
       "<div>\n",
       "<style scoped>\n",
       "    .dataframe tbody tr th:only-of-type {\n",
       "        vertical-align: middle;\n",
       "    }\n",
       "\n",
       "    .dataframe tbody tr th {\n",
       "        vertical-align: top;\n",
       "    }\n",
       "\n",
       "    .dataframe thead th {\n",
       "        text-align: right;\n",
       "    }\n",
       "</style>\n",
       "<table border=\"1\" class=\"dataframe\">\n",
       "  <thead>\n",
       "    <tr style=\"text-align: right;\">\n",
       "      <th></th>\n",
       "      <th>userId</th>\n",
       "      <th>userId_code</th>\n",
       "    </tr>\n",
       "  </thead>\n",
       "  <tbody>\n",
       "    <tr>\n",
       "      <th>0</th>\n",
       "      <td>4259</td>\n",
       "      <td>96.0</td>\n",
       "    </tr>\n",
       "    <tr>\n",
       "      <th>1</th>\n",
       "      <td>4259</td>\n",
       "      <td>96.0</td>\n",
       "    </tr>\n",
       "    <tr>\n",
       "      <th>2</th>\n",
       "      <td>4259</td>\n",
       "      <td>96.0</td>\n",
       "    </tr>\n",
       "    <tr>\n",
       "      <th>3</th>\n",
       "      <td>4259</td>\n",
       "      <td>96.0</td>\n",
       "    </tr>\n",
       "    <tr>\n",
       "      <th>4</th>\n",
       "      <td>4259</td>\n",
       "      <td>96.0</td>\n",
       "    </tr>\n",
       "  </tbody>\n",
       "</table>\n",
       "</div>"
      ],
      "text/plain": [
       "   userId  userId_code\n",
       "0    4259         96.0\n",
       "1    4259         96.0\n",
       "2    4259         96.0\n",
       "3    4259         96.0\n",
       "4    4259         96.0"
      ]
     },
     "execution_count": 4,
     "metadata": {},
     "output_type": "execute_result"
    }
   ],
   "source": [
    "#converting \"userId\" column into categorical \n",
    "from sklearn.preprocessing import OrdinalEncoder\n",
    "\n",
    "ord_enc = OrdinalEncoder()\n",
    "df[\"userId_code\"] = ord_enc.fit_transform(df[[\"userId\"]])\n",
    "df[[\"userId\", \"userId_code\"]].head()"
   ]
  },
  {
   "cell_type": "code",
   "execution_count": 5,
   "id": "e2897e68",
   "metadata": {},
   "outputs": [
    {
     "data": {
      "text/html": [
       "<div>\n",
       "<style scoped>\n",
       "    .dataframe tbody tr th:only-of-type {\n",
       "        vertical-align: middle;\n",
       "    }\n",
       "\n",
       "    .dataframe tbody tr th {\n",
       "        vertical-align: top;\n",
       "    }\n",
       "\n",
       "    .dataframe thead th {\n",
       "        text-align: right;\n",
       "    }\n",
       "</style>\n",
       "<table border=\"1\" class=\"dataframe\">\n",
       "  <thead>\n",
       "    <tr style=\"text-align: right;\">\n",
       "      <th></th>\n",
       "      <th>review</th>\n",
       "      <th>review_code</th>\n",
       "    </tr>\n",
       "  </thead>\n",
       "  <tbody>\n",
       "    <tr>\n",
       "      <th>0</th>\n",
       "      <td>Finally, Something for (Relatively) Nothing</td>\n",
       "      <td>856.0</td>\n",
       "    </tr>\n",
       "    <tr>\n",
       "      <th>1</th>\n",
       "      <td>Shocking!</td>\n",
       "      <td>1985.0</td>\n",
       "    </tr>\n",
       "    <tr>\n",
       "      <th>2</th>\n",
       "      <td>Simply Shaggadelic!</td>\n",
       "      <td>2006.0</td>\n",
       "    </tr>\n",
       "    <tr>\n",
       "      <th>3</th>\n",
       "      <td>Better Than The First!</td>\n",
       "      <td>472.0</td>\n",
       "    </tr>\n",
       "    <tr>\n",
       "      <th>4</th>\n",
       "      <td>Blair Witch made me appreciate this</td>\n",
       "      <td>493.0</td>\n",
       "    </tr>\n",
       "  </tbody>\n",
       "</table>\n",
       "</div>"
      ],
      "text/plain": [
       "                                        review  review_code\n",
       "0  Finally, Something for (Relatively) Nothing        856.0\n",
       "1                                    Shocking!       1985.0\n",
       "2                          Simply Shaggadelic!       2006.0\n",
       "3                       Better Than The First!        472.0\n",
       "4          Blair Witch made me appreciate this        493.0"
      ]
     },
     "execution_count": 5,
     "metadata": {},
     "output_type": "execute_result"
    }
   ],
   "source": [
    "#converting \"review\" column into categorical \n",
    "from sklearn.preprocessing import OrdinalEncoder\n",
    "\n",
    "ord_enc = OrdinalEncoder()\n",
    "df[\"review_code\"] = ord_enc.fit_transform(df[[\"review\"]])\n",
    "df[[\"review\", \"review_code\"]].head()"
   ]
  },
  {
   "cell_type": "code",
   "execution_count": 6,
   "id": "ea2395b2",
   "metadata": {},
   "outputs": [
    {
     "data": {
      "text/html": [
       "<div>\n",
       "<style scoped>\n",
       "    .dataframe tbody tr th:only-of-type {\n",
       "        vertical-align: middle;\n",
       "    }\n",
       "\n",
       "    .dataframe tbody tr th {\n",
       "        vertical-align: top;\n",
       "    }\n",
       "\n",
       "    .dataframe thead th {\n",
       "        text-align: right;\n",
       "    }\n",
       "</style>\n",
       "<table border=\"1\" class=\"dataframe\">\n",
       "  <thead>\n",
       "    <tr style=\"text-align: right;\">\n",
       "      <th></th>\n",
       "      <th>category</th>\n",
       "      <th>category_code</th>\n",
       "    </tr>\n",
       "  </thead>\n",
       "  <tbody>\n",
       "    <tr>\n",
       "      <th>0</th>\n",
       "      <td>Online Stores &amp; Services</td>\n",
       "      <td>6.0</td>\n",
       "    </tr>\n",
       "    <tr>\n",
       "      <th>1</th>\n",
       "      <td>Movies</td>\n",
       "      <td>5.0</td>\n",
       "    </tr>\n",
       "    <tr>\n",
       "      <th>2</th>\n",
       "      <td>Movies</td>\n",
       "      <td>5.0</td>\n",
       "    </tr>\n",
       "    <tr>\n",
       "      <th>3</th>\n",
       "      <td>Movies</td>\n",
       "      <td>5.0</td>\n",
       "    </tr>\n",
       "    <tr>\n",
       "      <th>4</th>\n",
       "      <td>Movies</td>\n",
       "      <td>5.0</td>\n",
       "    </tr>\n",
       "  </tbody>\n",
       "</table>\n",
       "</div>"
      ],
      "text/plain": [
       "                   category  category_code\n",
       "0  Online Stores & Services            6.0\n",
       "1                    Movies            5.0\n",
       "2                    Movies            5.0\n",
       "3                    Movies            5.0\n",
       "4                    Movies            5.0"
      ]
     },
     "execution_count": 6,
     "metadata": {},
     "output_type": "execute_result"
    }
   ],
   "source": [
    "#converting \"category\" column into categorical \n",
    "from sklearn.preprocessing import OrdinalEncoder\n",
    "\n",
    "ord_enc = OrdinalEncoder()\n",
    "df[\"category_code\"] = ord_enc.fit_transform(df[[\"category\"]])\n",
    "df[[\"category\", \"category_code\"]].head()"
   ]
  },
  {
   "cell_type": "code",
   "execution_count": 7,
   "id": "c6bce02c",
   "metadata": {},
   "outputs": [
    {
     "data": {
      "text/html": [
       "<div>\n",
       "<style scoped>\n",
       "    .dataframe tbody tr th:only-of-type {\n",
       "        vertical-align: middle;\n",
       "    }\n",
       "\n",
       "    .dataframe tbody tr th {\n",
       "        vertical-align: top;\n",
       "    }\n",
       "\n",
       "    .dataframe thead th {\n",
       "        text-align: right;\n",
       "    }\n",
       "</style>\n",
       "<table border=\"1\" class=\"dataframe\">\n",
       "  <thead>\n",
       "    <tr style=\"text-align: right;\">\n",
       "      <th></th>\n",
       "      <th>gender</th>\n",
       "      <th>gender_code</th>\n",
       "    </tr>\n",
       "  </thead>\n",
       "  <tbody>\n",
       "    <tr>\n",
       "      <th>0</th>\n",
       "      <td>F</td>\n",
       "      <td>0.0</td>\n",
       "    </tr>\n",
       "    <tr>\n",
       "      <th>1</th>\n",
       "      <td>F</td>\n",
       "      <td>0.0</td>\n",
       "    </tr>\n",
       "    <tr>\n",
       "      <th>2</th>\n",
       "      <td>F</td>\n",
       "      <td>0.0</td>\n",
       "    </tr>\n",
       "    <tr>\n",
       "      <th>3</th>\n",
       "      <td>F</td>\n",
       "      <td>0.0</td>\n",
       "    </tr>\n",
       "    <tr>\n",
       "      <th>4</th>\n",
       "      <td>F</td>\n",
       "      <td>0.0</td>\n",
       "    </tr>\n",
       "  </tbody>\n",
       "</table>\n",
       "</div>"
      ],
      "text/plain": [
       "  gender  gender_code\n",
       "0      F          0.0\n",
       "1      F          0.0\n",
       "2      F          0.0\n",
       "3      F          0.0\n",
       "4      F          0.0"
      ]
     },
     "execution_count": 7,
     "metadata": {},
     "output_type": "execute_result"
    }
   ],
   "source": [
    "#converting \"gender\" column into categorical \n",
    "from sklearn.preprocessing import OrdinalEncoder\n",
    "\n",
    "ord_enc = OrdinalEncoder()\n",
    "df[\"gender_code\"] = ord_enc.fit_transform(df[[\"gender\"]])\n",
    "df[[\"gender\", \"gender_code\"]].head()"
   ]
  },
  {
   "cell_type": "code",
   "execution_count": 8,
   "id": "6765a553",
   "metadata": {},
   "outputs": [
    {
     "name": "stdout",
     "output_type": "stream",
     "text": [
      "<class 'pandas.core.frame.DataFrame'>\n",
      "RangeIndex: 2899 entries, 0 to 2898\n",
      "Data columns (total 12 columns):\n",
      " #   Column         Non-Null Count  Dtype  \n",
      "---  ------         --------------  -----  \n",
      " 0   userId         2899 non-null   int64  \n",
      " 1   timestamp      2899 non-null   int64  \n",
      " 2   review         2899 non-null   object \n",
      " 3   item           2899 non-null   object \n",
      " 4   rating         2899 non-null   int64  \n",
      " 5   helpfulness    2899 non-null   int64  \n",
      " 6   gender         2899 non-null   object \n",
      " 7   category       2899 non-null   object \n",
      " 8   userId_code    2899 non-null   float64\n",
      " 9   review_code    2899 non-null   float64\n",
      " 10  category_code  2899 non-null   float64\n",
      " 11  gender_code    2899 non-null   float64\n",
      "dtypes: float64(4), int64(4), object(4)\n",
      "memory usage: 271.9+ KB\n"
     ]
    }
   ],
   "source": [
    "df.head()\n",
    "df.info()"
   ]
  },
  {
   "cell_type": "code",
   "execution_count": 9,
   "id": "073b9de0",
   "metadata": {},
   "outputs": [
    {
     "data": {
      "text/html": [
       "<div>\n",
       "<style scoped>\n",
       "    .dataframe tbody tr th:only-of-type {\n",
       "        vertical-align: middle;\n",
       "    }\n",
       "\n",
       "    .dataframe tbody tr th {\n",
       "        vertical-align: top;\n",
       "    }\n",
       "\n",
       "    .dataframe thead th {\n",
       "        text-align: right;\n",
       "    }\n",
       "</style>\n",
       "<table border=\"1\" class=\"dataframe\">\n",
       "  <thead>\n",
       "    <tr style=\"text-align: right;\">\n",
       "      <th></th>\n",
       "      <th>userId</th>\n",
       "      <th>timestamp</th>\n",
       "      <th>review</th>\n",
       "      <th>item</th>\n",
       "      <th>rating</th>\n",
       "      <th>helpfulness</th>\n",
       "      <th>gender</th>\n",
       "      <th>category</th>\n",
       "      <th>userId_code</th>\n",
       "      <th>review_code</th>\n",
       "      <th>category_code</th>\n",
       "      <th>gender_code</th>\n",
       "    </tr>\n",
       "  </thead>\n",
       "  <tbody>\n",
       "    <tr>\n",
       "      <th>0</th>\n",
       "      <td>4259</td>\n",
       "      <td>11900</td>\n",
       "      <td>Finally, Something for (Relatively) Nothing</td>\n",
       "      <td>MyPoints.com</td>\n",
       "      <td>4</td>\n",
       "      <td>4</td>\n",
       "      <td>F</td>\n",
       "      <td>Online Stores &amp; Services</td>\n",
       "      <td>96.0</td>\n",
       "      <td>856.0</td>\n",
       "      <td>6.0</td>\n",
       "      <td>0.0</td>\n",
       "    </tr>\n",
       "    <tr>\n",
       "      <th>1</th>\n",
       "      <td>4259</td>\n",
       "      <td>12000</td>\n",
       "      <td>Shocking!</td>\n",
       "      <td>Sixth Sense</td>\n",
       "      <td>5</td>\n",
       "      <td>4</td>\n",
       "      <td>F</td>\n",
       "      <td>Movies</td>\n",
       "      <td>96.0</td>\n",
       "      <td>1985.0</td>\n",
       "      <td>5.0</td>\n",
       "      <td>0.0</td>\n",
       "    </tr>\n",
       "    <tr>\n",
       "      <th>2</th>\n",
       "      <td>4259</td>\n",
       "      <td>12000</td>\n",
       "      <td>Simply Shaggadelic!</td>\n",
       "      <td>Austin Powers: The Spy Who Shagged Me</td>\n",
       "      <td>5</td>\n",
       "      <td>4</td>\n",
       "      <td>F</td>\n",
       "      <td>Movies</td>\n",
       "      <td>96.0</td>\n",
       "      <td>2006.0</td>\n",
       "      <td>5.0</td>\n",
       "      <td>0.0</td>\n",
       "    </tr>\n",
       "    <tr>\n",
       "      <th>3</th>\n",
       "      <td>4259</td>\n",
       "      <td>12000</td>\n",
       "      <td>Better Than The First!</td>\n",
       "      <td>Toy Story 2</td>\n",
       "      <td>5</td>\n",
       "      <td>3</td>\n",
       "      <td>F</td>\n",
       "      <td>Movies</td>\n",
       "      <td>96.0</td>\n",
       "      <td>472.0</td>\n",
       "      <td>5.0</td>\n",
       "      <td>0.0</td>\n",
       "    </tr>\n",
       "    <tr>\n",
       "      <th>4</th>\n",
       "      <td>4259</td>\n",
       "      <td>12000</td>\n",
       "      <td>Blair Witch made me appreciate this</td>\n",
       "      <td>Star Wars Episode I: The Phantom Menace</td>\n",
       "      <td>2</td>\n",
       "      <td>4</td>\n",
       "      <td>F</td>\n",
       "      <td>Movies</td>\n",
       "      <td>96.0</td>\n",
       "      <td>493.0</td>\n",
       "      <td>5.0</td>\n",
       "      <td>0.0</td>\n",
       "    </tr>\n",
       "  </tbody>\n",
       "</table>\n",
       "</div>"
      ],
      "text/plain": [
       "   userId  timestamp                                       review  \\\n",
       "0    4259      11900  Finally, Something for (Relatively) Nothing   \n",
       "1    4259      12000                                    Shocking!   \n",
       "2    4259      12000                          Simply Shaggadelic!   \n",
       "3    4259      12000                       Better Than The First!   \n",
       "4    4259      12000          Blair Witch made me appreciate this   \n",
       "\n",
       "                                      item  rating  helpfulness gender  \\\n",
       "0                             MyPoints.com       4            4      F   \n",
       "1                              Sixth Sense       5            4      F   \n",
       "2    Austin Powers: The Spy Who Shagged Me       5            4      F   \n",
       "3                              Toy Story 2       5            3      F   \n",
       "4  Star Wars Episode I: The Phantom Menace       2            4      F   \n",
       "\n",
       "                   category  userId_code  review_code  category_code  \\\n",
       "0  Online Stores & Services         96.0        856.0            6.0   \n",
       "1                    Movies         96.0       1985.0            5.0   \n",
       "2                    Movies         96.0       2006.0            5.0   \n",
       "3                    Movies         96.0        472.0            5.0   \n",
       "4                    Movies         96.0        493.0            5.0   \n",
       "\n",
       "   gender_code  \n",
       "0          0.0  \n",
       "1          0.0  \n",
       "2          0.0  \n",
       "3          0.0  \n",
       "4          0.0  "
      ]
     },
     "execution_count": 9,
     "metadata": {},
     "output_type": "execute_result"
    }
   ],
   "source": [
    "df.head()"
   ]
  },
  {
   "cell_type": "code",
   "execution_count": 10,
   "id": "3402f90d",
   "metadata": {},
   "outputs": [
    {
     "data": {
      "text/html": [
       "<div>\n",
       "<style scoped>\n",
       "    .dataframe tbody tr th:only-of-type {\n",
       "        vertical-align: middle;\n",
       "    }\n",
       "\n",
       "    .dataframe tbody tr th {\n",
       "        vertical-align: top;\n",
       "    }\n",
       "\n",
       "    .dataframe thead th {\n",
       "        text-align: right;\n",
       "    }\n",
       "</style>\n",
       "<table border=\"1\" class=\"dataframe\">\n",
       "  <thead>\n",
       "    <tr style=\"text-align: right;\">\n",
       "      <th></th>\n",
       "      <th>review_code</th>\n",
       "      <th>rating</th>\n",
       "    </tr>\n",
       "  </thead>\n",
       "  <tbody>\n",
       "    <tr>\n",
       "      <th>review_code</th>\n",
       "      <td>1.000000</td>\n",
       "      <td>-0.062071</td>\n",
       "    </tr>\n",
       "    <tr>\n",
       "      <th>rating</th>\n",
       "      <td>-0.062071</td>\n",
       "      <td>1.000000</td>\n",
       "    </tr>\n",
       "  </tbody>\n",
       "</table>\n",
       "</div>"
      ],
      "text/plain": [
       "             review_code    rating\n",
       "review_code     1.000000 -0.062071\n",
       "rating         -0.062071  1.000000"
      ]
     },
     "execution_count": 10,
     "metadata": {},
     "output_type": "execute_result"
    }
   ],
   "source": [
    "df[['review_code', 'rating']].corr()"
   ]
  },
  {
   "cell_type": "code",
   "execution_count": 11,
   "id": "c05d5774",
   "metadata": {},
   "outputs": [
    {
     "data": {
      "text/html": [
       "<div>\n",
       "<style scoped>\n",
       "    .dataframe tbody tr th:only-of-type {\n",
       "        vertical-align: middle;\n",
       "    }\n",
       "\n",
       "    .dataframe tbody tr th {\n",
       "        vertical-align: top;\n",
       "    }\n",
       "\n",
       "    .dataframe thead th {\n",
       "        text-align: right;\n",
       "    }\n",
       "</style>\n",
       "<table border=\"1\" class=\"dataframe\">\n",
       "  <thead>\n",
       "    <tr style=\"text-align: right;\">\n",
       "      <th></th>\n",
       "      <th>category_code</th>\n",
       "      <th>rating</th>\n",
       "    </tr>\n",
       "  </thead>\n",
       "  <tbody>\n",
       "    <tr>\n",
       "      <th>category_code</th>\n",
       "      <td>1.000000</td>\n",
       "      <td>-0.140576</td>\n",
       "    </tr>\n",
       "    <tr>\n",
       "      <th>rating</th>\n",
       "      <td>-0.140576</td>\n",
       "      <td>1.000000</td>\n",
       "    </tr>\n",
       "  </tbody>\n",
       "</table>\n",
       "</div>"
      ],
      "text/plain": [
       "               category_code    rating\n",
       "category_code       1.000000 -0.140576\n",
       "rating             -0.140576  1.000000"
      ]
     },
     "execution_count": 11,
     "metadata": {},
     "output_type": "execute_result"
    }
   ],
   "source": [
    "df[['category_code', 'rating']].corr()"
   ]
  },
  {
   "cell_type": "code",
   "execution_count": 12,
   "id": "28efb66e",
   "metadata": {},
   "outputs": [
    {
     "data": {
      "text/html": [
       "<div>\n",
       "<style scoped>\n",
       "    .dataframe tbody tr th:only-of-type {\n",
       "        vertical-align: middle;\n",
       "    }\n",
       "\n",
       "    .dataframe tbody tr th {\n",
       "        vertical-align: top;\n",
       "    }\n",
       "\n",
       "    .dataframe thead th {\n",
       "        text-align: right;\n",
       "    }\n",
       "</style>\n",
       "<table border=\"1\" class=\"dataframe\">\n",
       "  <thead>\n",
       "    <tr style=\"text-align: right;\">\n",
       "      <th></th>\n",
       "      <th>category_code</th>\n",
       "      <th>gender_code</th>\n",
       "    </tr>\n",
       "  </thead>\n",
       "  <tbody>\n",
       "    <tr>\n",
       "      <th>category_code</th>\n",
       "      <td>1.000000</td>\n",
       "      <td>-0.017644</td>\n",
       "    </tr>\n",
       "    <tr>\n",
       "      <th>gender_code</th>\n",
       "      <td>-0.017644</td>\n",
       "      <td>1.000000</td>\n",
       "    </tr>\n",
       "  </tbody>\n",
       "</table>\n",
       "</div>"
      ],
      "text/plain": [
       "               category_code  gender_code\n",
       "category_code       1.000000    -0.017644\n",
       "gender_code        -0.017644     1.000000"
      ]
     },
     "execution_count": 12,
     "metadata": {},
     "output_type": "execute_result"
    }
   ],
   "source": [
    "df[['category_code', 'gender_code']].corr()"
   ]
  },
  {
   "cell_type": "code",
   "execution_count": 13,
   "id": "63b07b21",
   "metadata": {},
   "outputs": [
    {
     "data": {
      "text/html": [
       "<div>\n",
       "<style scoped>\n",
       "    .dataframe tbody tr th:only-of-type {\n",
       "        vertical-align: middle;\n",
       "    }\n",
       "\n",
       "    .dataframe tbody tr th {\n",
       "        vertical-align: top;\n",
       "    }\n",
       "\n",
       "    .dataframe thead th {\n",
       "        text-align: right;\n",
       "    }\n",
       "</style>\n",
       "<table border=\"1\" class=\"dataframe\">\n",
       "  <thead>\n",
       "    <tr style=\"text-align: right;\">\n",
       "      <th></th>\n",
       "      <th>helpfulness</th>\n",
       "      <th>gender_code</th>\n",
       "    </tr>\n",
       "  </thead>\n",
       "  <tbody>\n",
       "    <tr>\n",
       "      <th>helpfulness</th>\n",
       "      <td>1.000000</td>\n",
       "      <td>-0.046627</td>\n",
       "    </tr>\n",
       "    <tr>\n",
       "      <th>gender_code</th>\n",
       "      <td>-0.046627</td>\n",
       "      <td>1.000000</td>\n",
       "    </tr>\n",
       "  </tbody>\n",
       "</table>\n",
       "</div>"
      ],
      "text/plain": [
       "             helpfulness  gender_code\n",
       "helpfulness     1.000000    -0.046627\n",
       "gender_code    -0.046627     1.000000"
      ]
     },
     "execution_count": 13,
     "metadata": {},
     "output_type": "execute_result"
    }
   ],
   "source": [
    "df[['helpfulness', 'gender_code']].corr()"
   ]
  },
  {
   "cell_type": "code",
   "execution_count": 14,
   "id": "973dfaf0",
   "metadata": {},
   "outputs": [
    {
     "data": {
      "text/html": [
       "<div>\n",
       "<style scoped>\n",
       "    .dataframe tbody tr th:only-of-type {\n",
       "        vertical-align: middle;\n",
       "    }\n",
       "\n",
       "    .dataframe tbody tr th {\n",
       "        vertical-align: top;\n",
       "    }\n",
       "\n",
       "    .dataframe thead th {\n",
       "        text-align: right;\n",
       "    }\n",
       "</style>\n",
       "<table border=\"1\" class=\"dataframe\">\n",
       "  <thead>\n",
       "    <tr style=\"text-align: right;\">\n",
       "      <th></th>\n",
       "      <th>rating</th>\n",
       "      <th>gender_code</th>\n",
       "    </tr>\n",
       "  </thead>\n",
       "  <tbody>\n",
       "    <tr>\n",
       "      <th>rating</th>\n",
       "      <td>1.000000</td>\n",
       "      <td>0.018105</td>\n",
       "    </tr>\n",
       "    <tr>\n",
       "      <th>gender_code</th>\n",
       "      <td>0.018105</td>\n",
       "      <td>1.000000</td>\n",
       "    </tr>\n",
       "  </tbody>\n",
       "</table>\n",
       "</div>"
      ],
      "text/plain": [
       "               rating  gender_code\n",
       "rating       1.000000     0.018105\n",
       "gender_code  0.018105     1.000000"
      ]
     },
     "execution_count": 14,
     "metadata": {},
     "output_type": "execute_result"
    }
   ],
   "source": [
    "df[['rating', 'gender_code']].corr()"
   ]
  },
  {
   "cell_type": "code",
   "execution_count": 15,
   "id": "0dfec7dc",
   "metadata": {},
   "outputs": [
    {
     "data": {
      "image/png": "[encoded data removed]",
      "text/plain": [
       "<Figure size 1080x1080 with 42 Axes>"
      ]
     },
     "metadata": {
      "needs_background": "light"
     },
     "output_type": "display_data"
    }
   ],
   "source": [
    "p = sns.pairplot(df[[ 'helpfulness', 'rating', 'review_code', 'category_code', 'gender_code', 'userId_code']])"
   ]
  },
  {
   "cell_type": "code",
   "execution_count": 16,
   "id": "ad0883f8",
   "metadata": {},
   "outputs": [
    {
     "data": {
      "image/png": "[encoded data removed]",
      "text/plain": [
       "<Figure size 360x360 with 1 Axes>"
      ]
     },
     "metadata": {
      "needs_background": "light"
     },
     "output_type": "display_data"
    }
   ],
   "source": [
    "p = sns.lmplot( 'category_code', 'rating', df, height=5, fit_reg=False) #Plot data and regression model fits across a FacetGrid."
   ]
  },
  {
   "cell_type": "code",
   "execution_count": 17,
   "id": "7cb38f92",
   "metadata": {},
   "outputs": [
    {
     "data": {
      "text/html": [
       "<div>\n",
       "<style scoped>\n",
       "    .dataframe tbody tr th:only-of-type {\n",
       "        vertical-align: middle;\n",
       "    }\n",
       "\n",
       "    .dataframe tbody tr th {\n",
       "        vertical-align: top;\n",
       "    }\n",
       "\n",
       "    .dataframe thead th {\n",
       "        text-align: right;\n",
       "    }\n",
       "</style>\n",
       "<table border=\"1\" class=\"dataframe\">\n",
       "  <thead>\n",
       "    <tr style=\"text-align: right;\">\n",
       "      <th></th>\n",
       "      <th>category_code</th>\n",
       "      <th>rating</th>\n",
       "    </tr>\n",
       "  </thead>\n",
       "  <tbody>\n",
       "    <tr>\n",
       "      <th>category_code</th>\n",
       "      <td>1.000000</td>\n",
       "      <td>-0.140576</td>\n",
       "    </tr>\n",
       "    <tr>\n",
       "      <th>rating</th>\n",
       "      <td>-0.140576</td>\n",
       "      <td>1.000000</td>\n",
       "    </tr>\n",
       "  </tbody>\n",
       "</table>\n",
       "</div>"
      ],
      "text/plain": [
       "               category_code    rating\n",
       "category_code       1.000000 -0.140576\n",
       "rating             -0.140576  1.000000"
      ]
     },
     "execution_count": 17,
     "metadata": {},
     "output_type": "execute_result"
    }
   ],
   "source": [
    "df[['category_code', 'rating']].corr()"
   ]
  },
  {
   "cell_type": "code",
   "execution_count": 18,
   "id": "82cc58d4",
   "metadata": {},
   "outputs": [
    {
     "data": {
      "text/plain": [
       "0.01976171912036606"
      ]
     },
     "execution_count": 18,
     "metadata": {},
     "output_type": "execute_result"
    }
   ],
   "source": [
    "# create X and y\n",
    "#https://scikit-learn.org/stable/modules/generated/sklearn.linear_model.LinearRegression.html\n",
    "feature_cols = ['rating']\n",
    "X = df[feature_cols]\n",
    "y = df['category_code'] \n",
    "\n",
    "# import, instantiate, fit\n",
    "from sklearn.linear_model import LinearRegression \n",
    "model = LinearRegression() #Ordinary least squares Linear Regression. \n",
    "reg=model.fit(X, y) #Fit linear model.\n",
    "reg.score(X, y) #Return the coefficient of determination of the prediction.\n",
    "                #The best possible score is 1.0 and it can be negative"
   ]
  },
  {
   "cell_type": "code",
   "execution_count": 19,
   "id": "59f4bf9b",
   "metadata": {},
   "outputs": [
    {
     "name": "stdout",
     "output_type": "stream",
     "text": [
      "y =  [-0.17420676] * x +  5.67750345688514\n"
     ]
    }
   ],
   "source": [
    "print(\"y = \", model.coef_, \"* x + \", model.intercept_) "
   ]
  },
  {
   "cell_type": "code",
   "execution_count": 20,
   "id": "440032de",
   "metadata": {},
   "outputs": [],
   "source": [
    "xmin = X.min()\n",
    "ymin = model.coef_[0] * xmin + model.intercept_ #[0] means the value for the first feature\n",
    "xmax = X.max()\n",
    "ymax = model.coef_[0] * xmax + model.intercept_"
   ]
  },
  {
   "cell_type": "code",
   "execution_count": 21,
   "id": "abdd9f60",
   "metadata": {},
   "outputs": [
    {
     "data": {
      "text/plain": [
       "<matplotlib.collections.PathCollection at 0x2ad25a1de50>"
      ]
     },
     "execution_count": 21,
     "metadata": {},
     "output_type": "execute_result"
    },
    {
     "data": {
      "image/png": "[encoded data removed]",
      "text/plain": [
       "<Figure size 504x504 with 1 Axes>"
      ]
     },
     "metadata": {
      "needs_background": "light"
     },
     "output_type": "display_data"
    }
   ],
   "source": [
    "plt.figure(figsize=(7,7))\n",
    "plt.plot([xmin, xmax], [ymin, ymax])  # single line\n",
    "plt.scatter(X, y)  # original data "
   ]
  },
  {
   "cell_type": "code",
   "execution_count": 22,
   "id": "c1524077",
   "metadata": {},
   "outputs": [
    {
     "data": {
      "image/png": "[encoded data removed]",
      "text/plain": [
       "<Figure size 504x504 with 1 Axes>"
      ]
     },
     "metadata": {
      "needs_background": "light"
     },
     "output_type": "display_data"
    }
   ],
   "source": [
    "# Same thing with lmplot (linear model plot)\n",
    "p = sns.lmplot('category_code','rating' , df, height=7)"
   ]
  },
  {
   "cell_type": "code",
   "execution_count": 23,
   "id": "fa4a6a5d",
   "metadata": {},
   "outputs": [
    {
     "name": "stdout",
     "output_type": "stream",
     "text": [
      "Predicted value for x = 1 is [5.5032967]\n"
     ]
    },
    {
     "data": {
      "text/plain": [
       "array([4.98067643, 4.80646967, 4.80646967, ..., 4.80646967, 5.15488318,\n",
       "       5.15488318])"
      ]
     },
     "execution_count": 23,
     "metadata": {},
     "output_type": "execute_result"
    }
   ],
   "source": [
    "print(\"Predicted value for x =\", xmin[0], \"is\", model.predict([xmin]))\n",
    "yhat = model.predict(X) #Predict using the linear model.\n",
    "yhat"
   ]
  },
  {
   "cell_type": "code",
   "execution_count": 24,
   "id": "516e18b5",
   "metadata": {},
   "outputs": [
    {
     "name": "stdout",
     "output_type": "stream",
     "text": [
      "2.723914858002314 1.650428689159975\n"
     ]
    }
   ],
   "source": [
    "mse = ((y - model.predict(X))**2).mean() #y = birth['rating'] \n",
    "print(mse, np.sqrt(mse)) #mean squared error"
   ]
  },
  {
   "cell_type": "code",
   "execution_count": 25,
   "id": "6dca2ba1",
   "metadata": {},
   "outputs": [
    {
     "name": "stdout",
     "output_type": "stream",
     "text": [
      "MSE: 2.7239148580023285\n",
      "R^2: 0.01976171912036606\n"
     ]
    }
   ],
   "source": [
    "#https://scikit-learn.org/stable/modules/generated/sklearn.metrics.mean_squared_error.html\n",
    "#https://scikit-learn.org/stable/modules/generated/sklearn.metrics.r2_score.html\n",
    "from sklearn.metrics import mean_squared_error, r2_score\n",
    "\n",
    "predicted = model.predict(X)\n",
    "print(\"MSE:\", mean_squared_error(y, predicted))\n",
    "print(\"R^2:\", r2_score(y, predicted))"
   ]
  },
  {
   "cell_type": "code",
   "execution_count": 26,
   "id": "20ef4b8f",
   "metadata": {},
   "outputs": [
    {
     "data": {
      "text/plain": [
       "0.01976171912036606"
      ]
     },
     "execution_count": 26,
     "metadata": {},
     "output_type": "execute_result"
    }
   ],
   "source": [
    "# create X and y\n",
    "feature_cols = ['rating']\n",
    "X = df[feature_cols]\n",
    "y = df['category_code']\n",
    " \n",
    "model = LinearRegression()\n",
    "reg2=model.fit(X, y)\n",
    "reg2.score(X, y) #The best possible score is 1.0 and it can be negative"
   ]
  },
  {
   "cell_type": "code",
   "execution_count": 27,
   "id": "1d6ead1b",
   "metadata": {},
   "outputs": [
    {
     "name": "stdout",
     "output_type": "stream",
     "text": [
      "y =  [-0.17420676] * X +  5.67750345688514\n"
     ]
    }
   ],
   "source": [
    "print(\"y = \", model.coef_, \"* X + \", model.intercept_)\n"
   ]
  },
  {
   "cell_type": "code",
   "execution_count": 28,
   "id": "9225785f",
   "metadata": {},
   "outputs": [
    {
     "name": "stdout",
     "output_type": "stream",
     "text": [
      "     rating\n",
      "0         4\n",
      "1         5\n",
      "2         5\n",
      "3         5\n",
      "4         2\n",
      "..      ...\n",
      "284       5\n",
      "285       5\n",
      "286       4\n",
      "287       5\n",
      "288       5\n",
      "\n",
      "[289 rows x 1 columns]\n",
      "0      6.0\n",
      "1      5.0\n",
      "2      5.0\n",
      "3      5.0\n",
      "4      5.0\n",
      "      ... \n",
      "284    2.0\n",
      "285    2.0\n",
      "286    2.0\n",
      "287    2.0\n",
      "288    2.0\n",
      "Name: category_code, Length: 289, dtype: float64\n",
      "      rating\n",
      "289        2\n",
      "290        4\n",
      "291        4\n",
      "292        3\n",
      "293        5\n",
      "...      ...\n",
      "2894       5\n",
      "2895       5\n",
      "2896       5\n",
      "2897       3\n",
      "2898       3\n",
      "\n",
      "[2610 rows x 1 columns]\n",
      "289     5.0\n",
      "290     5.0\n",
      "291     5.0\n",
      "292     5.0\n",
      "293     5.0\n",
      "       ... \n",
      "2894    5.0\n",
      "2895    5.0\n",
      "2896    5.0\n",
      "2897    5.0\n",
      "2898    5.0\n",
      "Name: category_code, Length: 2610, dtype: float64\n"
     ]
    }
   ],
   "source": [
    "# Training data staring 10%\n",
    "feature_cols = ['rating']\n",
    "X = df[feature_cols]\n",
    "y = df['category_code']\n",
    "\n",
    "X_train = X[:289] \n",
    "print(X_train)\n",
    "y_train = y[:289]\n",
    "print(y_train)\n",
    "X_test = X[289:]\n",
    "print(X_test)\n",
    "y_test = y[289:]\n",
    "print(y_test)"
   ]
  },
  {
   "cell_type": "code",
   "execution_count": 29,
   "id": "d52c0da9",
   "metadata": {},
   "outputs": [
    {
     "name": "stdout",
     "output_type": "stream",
     "text": [
      "MSE: 2.8111262858186388\n",
      "R^2: -0.05005228810159967\n"
     ]
    }
   ],
   "source": [
    "model = LinearRegression()\n",
    "model.fit(X_train, y_train)\n",
    "predicted = model.predict(X_test)\n",
    "print(\"MSE:\", mean_squared_error(y_test, predicted))\n",
    "print(\"R^2:\", r2_score(y_test, predicted))"
   ]
  },
  {
   "cell_type": "code",
   "execution_count": 30,
   "id": "63b9f947",
   "metadata": {},
   "outputs": [
    {
     "name": "stdout",
     "output_type": "stream",
     "text": [
      "(2174, 1) (725, 1)\n"
     ]
    }
   ],
   "source": [
    "from sklearn.model_selection import train_test_split\n",
    "\n",
    "X_train, X_test, y_train, y_test = train_test_split(X, y)\n",
    "print(X_train.shape, X_test.shape)"
   ]
  },
  {
   "cell_type": "code",
   "execution_count": 31,
   "id": "f593e04b",
   "metadata": {},
   "outputs": [
    {
     "name": "stdout",
     "output_type": "stream",
     "text": [
      "MSE: 2.7437740576551066\n",
      "R^2: 0.01548237594515467\n"
     ]
    }
   ],
   "source": [
    "model = LinearRegression()\n",
    "model.fit(X_train, y_train)\n",
    "predicted = model.predict(X_test)\n",
    "print(\"MSE:\", mean_squared_error(y_test, predicted))\n",
    "print(\"R^2:\", r2_score(y_test, predicted))"
   ]
  },
  {
   "cell_type": "code",
   "execution_count": 32,
   "id": "db44ccd2",
   "metadata": {},
   "outputs": [
    {
     "name": "stdout",
     "output_type": "stream",
     "text": [
      "      rating\n",
      "0          4\n",
      "1          5\n",
      "2          5\n",
      "3          5\n",
      "4          2\n",
      "...      ...\n",
      "2605       3\n",
      "2606       5\n",
      "2607       5\n",
      "2608       4\n",
      "2609       1\n",
      "\n",
      "[2610 rows x 1 columns]\n",
      "0       6.0\n",
      "1       5.0\n",
      "2       5.0\n",
      "3       5.0\n",
      "4       5.0\n",
      "       ... \n",
      "2605    5.0\n",
      "2606    6.0\n",
      "2607    5.0\n",
      "2608    5.0\n",
      "2609    7.0\n",
      "Name: category_code, Length: 2610, dtype: float64\n",
      "      rating\n",
      "2610       5\n",
      "2611       3\n",
      "2612       5\n",
      "2613       2\n",
      "2614       4\n",
      "...      ...\n",
      "2894       5\n",
      "2895       5\n",
      "2896       5\n",
      "2897       3\n",
      "2898       3\n",
      "\n",
      "[289 rows x 1 columns]\n",
      "2610    8.0\n",
      "2611    8.0\n",
      "2612    8.0\n",
      "2613    3.0\n",
      "2614    8.0\n",
      "       ... \n",
      "2894    5.0\n",
      "2895    5.0\n",
      "2896    5.0\n",
      "2897    5.0\n",
      "2898    5.0\n",
      "Name: category_code, Length: 289, dtype: float64\n"
     ]
    }
   ],
   "source": [
    "# Training data staring 90%\n",
    "feature_cols = ['rating']\n",
    "X = df[feature_cols]\n",
    "y = df['category_code']\n",
    "\n",
    "X_train = X[:2610]\n",
    "print(X_train)\n",
    "y_train = y[:2610]\n",
    "print(y_train)\n",
    "X_test = X[2610:] \n",
    "print(X_test)\n",
    "y_test = y[2610:]\n",
    "print(y_test)"
   ]
  },
  {
   "cell_type": "code",
   "execution_count": 33,
   "id": "9a072ceb",
   "metadata": {},
   "outputs": [
    {
     "name": "stdout",
     "output_type": "stream",
     "text": [
      "MSE: 3.291229013771394\n",
      "R^2: -0.002460645264250383\n"
     ]
    }
   ],
   "source": [
    "model = LinearRegression()\n",
    "model.fit(X_train, y_train)\n",
    "predicted = model.predict(X_test)\n",
    "print(\"MSE:\", mean_squared_error(y_test, predicted))\n",
    "print(\"R^2:\", r2_score(y_test, predicted))"
   ]
  },
  {
   "cell_type": "code",
   "execution_count": 34,
   "id": "a009896b",
   "metadata": {},
   "outputs": [
    {
     "name": "stdout",
     "output_type": "stream",
     "text": [
      "(2319, 1) (580, 1)\n"
     ]
    }
   ],
   "source": [
    "from sklearn.model_selection import train_test_split\n",
    "\n",
    "X_train, X_test, y_train, y_test = train_test_split(X, y, test_size=0.2) #20% for test\n",
    "print(X_train.shape, X_test.shape)"
   ]
  },
  {
   "cell_type": "code",
   "execution_count": 35,
   "id": "f93050ec",
   "metadata": {},
   "outputs": [
    {
     "name": "stdout",
     "output_type": "stream",
     "text": [
      "MSE: 2.4921483285819863\n",
      "R^2: 0.017533050045727028\n"
     ]
    }
   ],
   "source": [
    "model = LinearRegression()\n",
    "model.fit(X_train, y_train)\n",
    "predicted = model.predict(X_test)\n",
    "print(\"MSE:\", mean_squared_error(y_test, predicted))\n",
    "print(\"R^2:\", r2_score(y_test, predicted))"
   ]
  },
  {
   "cell_type": "code",
   "execution_count": 36,
   "id": "937e14d8",
   "metadata": {},
   "outputs": [
    {
     "name": "stdout",
     "output_type": "stream",
     "text": [
      "     gender_code  rating\n",
      "0            0.0       4\n",
      "1            0.0       5\n",
      "2            0.0       5\n",
      "3            0.0       5\n",
      "4            0.0       2\n",
      "..           ...     ...\n",
      "284          0.0       5\n",
      "285          0.0       5\n",
      "286          0.0       4\n",
      "287          0.0       5\n",
      "288          0.0       5\n",
      "\n",
      "[289 rows x 2 columns]\n",
      "0      6.0\n",
      "1      5.0\n",
      "2      5.0\n",
      "3      5.0\n",
      "4      5.0\n",
      "      ... \n",
      "284    2.0\n",
      "285    2.0\n",
      "286    2.0\n",
      "287    2.0\n",
      "288    2.0\n",
      "Name: category_code, Length: 289, dtype: float64\n",
      "      gender_code  rating\n",
      "289           0.0       2\n",
      "290           0.0       4\n",
      "291           0.0       4\n",
      "292           0.0       3\n",
      "293           0.0       5\n",
      "...           ...     ...\n",
      "2894          0.0       5\n",
      "2895          0.0       5\n",
      "2896          0.0       5\n",
      "2897          0.0       3\n",
      "2898          0.0       3\n",
      "\n",
      "[2610 rows x 2 columns]\n",
      "289     5.0\n",
      "290     5.0\n",
      "291     5.0\n",
      "292     5.0\n",
      "293     5.0\n",
      "       ... \n",
      "2894    5.0\n",
      "2895    5.0\n",
      "2896    5.0\n",
      "2897    5.0\n",
      "2898    5.0\n",
      "Name: category_code, Length: 2610, dtype: float64\n"
     ]
    }
   ],
   "source": [
    "# Training data staring 10% with most correlated features\n",
    "feature_cols = ['gender_code','rating']\n",
    "X = df[feature_cols]\n",
    "y = df['category_code']\n",
    "\n",
    "X_train = X[:289] \n",
    "print(X_train)\n",
    "y_train = y[:289]\n",
    "print(y_train)\n",
    "X_test = X[289:]\n",
    "print(X_test)\n",
    "y_test = y[289:]\n",
    "print(y_test)"
   ]
  },
  {
   "cell_type": "code",
   "execution_count": 37,
   "id": "37a6d952",
   "metadata": {},
   "outputs": [
    {
     "name": "stdout",
     "output_type": "stream",
     "text": [
      "MSE: 2.8153814845908434\n",
      "R^2: -0.051641751097133204\n"
     ]
    }
   ],
   "source": [
    "model = LinearRegression()\n",
    "model.fit(X_train, y_train)\n",
    "predicted = model.predict(X_test)\n",
    "print(\"MSE:\", mean_squared_error(y_test, predicted))\n",
    "print(\"R^2:\", r2_score(y_test, predicted))"
   ]
  },
  {
   "cell_type": "code",
   "execution_count": 38,
   "id": "030a3e8a",
   "metadata": {},
   "outputs": [
    {
     "name": "stdout",
     "output_type": "stream",
     "text": [
      "(2174, 2) (725, 2)\n"
     ]
    }
   ],
   "source": [
    "from sklearn.model_selection import train_test_split\n",
    "\n",
    "X_train, X_test, y_train, y_test = train_test_split(X, y)\n",
    "print(X_train.shape, X_test.shape)"
   ]
  },
  {
   "cell_type": "code",
   "execution_count": 39,
   "id": "e1c865f3",
   "metadata": {},
   "outputs": [
    {
     "name": "stdout",
     "output_type": "stream",
     "text": [
      "MSE: 2.834760626976631\n",
      "R^2: 0.008701314247494096\n"
     ]
    }
   ],
   "source": [
    "model = LinearRegression()\n",
    "model.fit(X_train, y_train)\n",
    "predicted = model.predict(X_test)\n",
    "print(\"MSE:\", mean_squared_error(y_test, predicted))\n",
    "print(\"R^2:\", r2_score(y_test, predicted))"
   ]
  },
  {
   "cell_type": "code",
   "execution_count": 40,
   "id": "b2b970aa",
   "metadata": {},
   "outputs": [
    {
     "name": "stdout",
     "output_type": "stream",
     "text": [
      "      gender_code  rating\n",
      "0             0.0       4\n",
      "1             0.0       5\n",
      "2             0.0       5\n",
      "3             0.0       5\n",
      "4             0.0       2\n",
      "...           ...     ...\n",
      "2605          0.0       3\n",
      "2606          0.0       5\n",
      "2607          0.0       5\n",
      "2608          1.0       4\n",
      "2609          1.0       1\n",
      "\n",
      "[2610 rows x 2 columns]\n",
      "0       6.0\n",
      "1       5.0\n",
      "2       5.0\n",
      "3       5.0\n",
      "4       5.0\n",
      "       ... \n",
      "2605    5.0\n",
      "2606    6.0\n",
      "2607    5.0\n",
      "2608    5.0\n",
      "2609    7.0\n",
      "Name: category_code, Length: 2610, dtype: float64\n",
      "      gender_code  rating\n",
      "2610          1.0       5\n",
      "2611          1.0       3\n",
      "2612          1.0       5\n",
      "2613          1.0       2\n",
      "2614          1.0       4\n",
      "...           ...     ...\n",
      "2894          0.0       5\n",
      "2895          0.0       5\n",
      "2896          0.0       5\n",
      "2897          0.0       3\n",
      "2898          0.0       3\n",
      "\n",
      "[289 rows x 2 columns]\n",
      "2610    8.0\n",
      "2611    8.0\n",
      "2612    8.0\n",
      "2613    3.0\n",
      "2614    8.0\n",
      "       ... \n",
      "2894    5.0\n",
      "2895    5.0\n",
      "2896    5.0\n",
      "2897    5.0\n",
      "2898    5.0\n",
      "Name: category_code, Length: 289, dtype: float64\n"
     ]
    }
   ],
   "source": [
    "# Training data staring 90% most correlated features\n",
    "feature_cols = ['gender_code','rating']\n",
    "X = df[feature_cols]\n",
    "y = df['category_code']\n",
    "\n",
    "X_train = X[:2610]\n",
    "print(X_train)\n",
    "y_train = y[:2610]\n",
    "print(y_train)\n",
    "X_test = X[2610:] \n",
    "print(X_test)\n",
    "y_test = y[2610:]\n",
    "print(y_test)"
   ]
  },
  {
   "cell_type": "code",
   "execution_count": 41,
   "id": "639550e4",
   "metadata": {},
   "outputs": [
    {
     "name": "stdout",
     "output_type": "stream",
     "text": [
      "MSE: 3.301322556178441\n",
      "R^2: -0.005534991957243163\n"
     ]
    }
   ],
   "source": [
    "model = LinearRegression()\n",
    "model.fit(X_train, y_train)\n",
    "predicted = model.predict(X_test)\n",
    "print(\"MSE:\", mean_squared_error(y_test, predicted))\n",
    "print(\"R^2:\", r2_score(y_test, predicted))"
   ]
  },
  {
   "cell_type": "code",
   "execution_count": 42,
   "id": "fe26aef7",
   "metadata": {},
   "outputs": [
    {
     "name": "stdout",
     "output_type": "stream",
     "text": [
      "(2174, 2) (725, 2)\n"
     ]
    }
   ],
   "source": [
    "from sklearn.model_selection import train_test_split\n",
    "\n",
    "X_train, X_test, y_train, y_test = train_test_split(X, y)\n",
    "print(X_train.shape, X_test.shape)"
   ]
  },
  {
   "cell_type": "code",
   "execution_count": 43,
   "id": "a1a8e99b",
   "metadata": {},
   "outputs": [
    {
     "name": "stdout",
     "output_type": "stream",
     "text": [
      "MSE: 2.75659050026317\n",
      "R^2: 0.0009316232539083869\n"
     ]
    }
   ],
   "source": [
    "model = LinearRegression()\n",
    "model.fit(X_train, y_train)\n",
    "predicted = model.predict(X_test)\n",
    "print(\"MSE:\", mean_squared_error(y_test, predicted))\n",
    "print(\"R^2:\", r2_score(y_test, predicted))"
   ]
  },
  {
   "cell_type": "code",
   "execution_count": 44,
   "id": "6e8351af",
   "metadata": {},
   "outputs": [
    {
     "name": "stdout",
     "output_type": "stream",
     "text": [
      "     userId_code  review_code\n",
      "0           96.0        856.0\n",
      "1           96.0       1985.0\n",
      "2           96.0       2006.0\n",
      "3           96.0        472.0\n",
      "4           96.0        493.0\n",
      "..           ...          ...\n",
      "284        112.0        585.0\n",
      "285        112.0       2557.0\n",
      "286        112.0        468.0\n",
      "287        112.0       1682.0\n",
      "288        112.0       2215.0\n",
      "\n",
      "[289 rows x 2 columns]\n",
      "0      6.0\n",
      "1      5.0\n",
      "2      5.0\n",
      "3      5.0\n",
      "4      5.0\n",
      "      ... \n",
      "284    2.0\n",
      "285    2.0\n",
      "286    2.0\n",
      "287    2.0\n",
      "288    2.0\n",
      "Name: category_code, Length: 289, dtype: float64\n",
      "      userId_code  review_code\n",
      "289          12.0       1167.0\n",
      "290          12.0       2487.0\n",
      "291          12.0       2457.0\n",
      "292          12.0       1126.0\n",
      "293          12.0       1405.0\n",
      "...           ...          ...\n",
      "2894        288.0       1221.0\n",
      "2895        288.0        379.0\n",
      "2896        288.0       1546.0\n",
      "2897        288.0       2431.0\n",
      "2898        288.0       1519.0\n",
      "\n",
      "[2610 rows x 2 columns]\n",
      "289     5.0\n",
      "290     5.0\n",
      "291     5.0\n",
      "292     5.0\n",
      "293     5.0\n",
      "       ... \n",
      "2894    5.0\n",
      "2895    5.0\n",
      "2896    5.0\n",
      "2897    5.0\n",
      "2898    5.0\n",
      "Name: category_code, Length: 2610, dtype: float64\n"
     ]
    }
   ],
   "source": [
    "# Training data staring 10% with least correlated features\n",
    "feature_cols = ['userId_code','review_code']\n",
    "X = df[feature_cols]\n",
    "y = df['category_code']\n",
    "\n",
    "X_train = X[:289] \n",
    "print(X_train)\n",
    "y_train = y[:289]\n",
    "print(y_train)\n",
    "X_test = X[289:]\n",
    "print(X_test)\n",
    "y_test = y[289:]\n",
    "print(y_test)"
   ]
  },
  {
   "cell_type": "code",
   "execution_count": 45,
   "id": "8985ee3e",
   "metadata": {},
   "outputs": [
    {
     "name": "stdout",
     "output_type": "stream",
     "text": [
      "MSE: 3.26155693879941\n",
      "R^2: -0.218303618601972\n"
     ]
    }
   ],
   "source": [
    "model = LinearRegression()\n",
    "model.fit(X_train, y_train)\n",
    "predicted = model.predict(X_test)\n",
    "print(\"MSE:\", mean_squared_error(y_test, predicted))\n",
    "print(\"R^2:\", r2_score(y_test, predicted))"
   ]
  },
  {
   "cell_type": "code",
   "execution_count": 46,
   "id": "640e8a4a",
   "metadata": {},
   "outputs": [
    {
     "name": "stdout",
     "output_type": "stream",
     "text": [
      "(2174, 2) (725, 2)\n"
     ]
    }
   ],
   "source": [
    "from sklearn.model_selection import train_test_split\n",
    "\n",
    "X_train, X_test, y_train, y_test = train_test_split(X, y)\n",
    "print(X_train.shape, X_test.shape)"
   ]
  },
  {
   "cell_type": "code",
   "execution_count": 47,
   "id": "36875778",
   "metadata": {},
   "outputs": [
    {
     "name": "stdout",
     "output_type": "stream",
     "text": [
      "MSE: 2.703842732582475\n",
      "R^2: -0.0022364286334504158\n"
     ]
    }
   ],
   "source": [
    "model = LinearRegression()\n",
    "model.fit(X_train, y_train)\n",
    "predicted = model.predict(X_test)\n",
    "print(\"MSE:\", mean_squared_error(y_test, predicted))\n",
    "print(\"R^2:\", r2_score(y_test, predicted))"
   ]
  },
  {
   "cell_type": "code",
   "execution_count": 48,
   "id": "493eb4d3",
   "metadata": {},
   "outputs": [
    {
     "name": "stdout",
     "output_type": "stream",
     "text": [
      "      userId_code  review_code\n",
      "0            96.0        856.0\n",
      "1            96.0       1985.0\n",
      "2            96.0       2006.0\n",
      "3            96.0        472.0\n",
      "4            96.0        493.0\n",
      "...           ...          ...\n",
      "2605         86.0       1236.0\n",
      "2606         86.0        860.0\n",
      "2607         86.0        693.0\n",
      "2608         89.0        818.0\n",
      "2609         89.0       1836.0\n",
      "\n",
      "[2610 rows x 2 columns]\n",
      "0       6.0\n",
      "1       5.0\n",
      "2       5.0\n",
      "3       5.0\n",
      "4       5.0\n",
      "       ... \n",
      "2605    5.0\n",
      "2606    6.0\n",
      "2607    5.0\n",
      "2608    5.0\n",
      "2609    7.0\n",
      "Name: category_code, Length: 2610, dtype: float64\n",
      "      userId_code  review_code\n",
      "2610         89.0       1819.0\n",
      "2611         89.0        393.0\n",
      "2612         89.0       1628.0\n",
      "2613         89.0        553.0\n",
      "2614         89.0       2159.0\n",
      "...           ...          ...\n",
      "2894        288.0       1221.0\n",
      "2895        288.0        379.0\n",
      "2896        288.0       1546.0\n",
      "2897        288.0       2431.0\n",
      "2898        288.0       1519.0\n",
      "\n",
      "[289 rows x 2 columns]\n",
      "2610    8.0\n",
      "2611    8.0\n",
      "2612    8.0\n",
      "2613    3.0\n",
      "2614    8.0\n",
      "       ... \n",
      "2894    5.0\n",
      "2895    5.0\n",
      "2896    5.0\n",
      "2897    5.0\n",
      "2898    5.0\n",
      "Name: category_code, Length: 289, dtype: float64\n"
     ]
    }
   ],
   "source": [
    "# Training data staring 90% least correlated features\n",
    "feature_cols = ['userId_code','review_code']\n",
    "X = df[feature_cols]\n",
    "y = df['category_code']\n",
    "\n",
    "X_train = X[:2610]\n",
    "print(X_train)\n",
    "y_train = y[:2610]\n",
    "print(y_train)\n",
    "X_test = X[2610:] \n",
    "print(X_test)\n",
    "y_test = y[2610:]\n",
    "print(y_test)"
   ]
  },
  {
   "cell_type": "code",
   "execution_count": 49,
   "id": "33c2ee10",
   "metadata": {},
   "outputs": [
    {
     "name": "stdout",
     "output_type": "stream",
     "text": [
      "MSE: 3.3341420658856737\n",
      "R^2: -0.015531338835781616\n"
     ]
    }
   ],
   "source": [
    "model = LinearRegression()\n",
    "model.fit(X_train, y_train)\n",
    "predicted = model.predict(X_test)\n",
    "print(\"MSE:\", mean_squared_error(y_test, predicted))\n",
    "print(\"R^2:\", r2_score(y_test, predicted))"
   ]
  },
  {
   "cell_type": "code",
   "execution_count": 50,
   "id": "e7935b37",
   "metadata": {},
   "outputs": [
    {
     "name": "stdout",
     "output_type": "stream",
     "text": [
      "(2174, 2) (725, 2)\n"
     ]
    }
   ],
   "source": [
    "from sklearn.model_selection import train_test_split\n",
    "\n",
    "X_train, X_test, y_train, y_test = train_test_split(X, y)\n",
    "print(X_train.shape, X_test.shape)"
   ]
  },
  {
   "cell_type": "code",
   "execution_count": 51,
   "id": "944dbce3",
   "metadata": {},
   "outputs": [
    {
     "name": "stdout",
     "output_type": "stream",
     "text": [
      "MSE: 2.992029628555637\n",
      "R^2: 0.00029522072939225374\n"
     ]
    }
   ],
   "source": [
    "model = LinearRegression()\n",
    "model.fit(X_train, y_train)\n",
    "predicted = model.predict(X_test)\n",
    "print(\"MSE:\", mean_squared_error(y_test, predicted))\n",
    "print(\"R^2:\", r2_score(y_test, predicted))"
   ]
  },
  {
   "cell_type": "code",
   "execution_count": null,
   "id": "50e74310",
   "metadata": {},
   "outputs": [],
   "source": []
  }
 ],
 "metadata": {
  "kernelspec": {
   "display_name": "Python 3",
   "language": "python",
   "name": "python3"
  },
  "language_info": {
   "codemirror_mode": {
    "name": "ipython",
    "version": 3
   },
   "file_extension": ".py",
   "mimetype": "text/x-python",
   "name": "python",
   "nbconvert_exporter": "python",
   "pygments_lexer": "ipython3",
   "version": "3.8.8"
  }
 },
 "nbformat": 4,
 "nbformat_minor": 5
}
